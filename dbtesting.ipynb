{
 "cells": [
  {
   "cell_type": "code",
   "execution_count": 1,
   "id": "06a7576e",
   "metadata": {},
   "outputs": [],
   "source": [
    "import sqlite3\n",
    "\n",
    "conn = sqlite3.connect(\"lanecounts.db\")"
   ]
  },
  {
   "cell_type": "code",
   "execution_count": 2,
   "id": "ad5ef31d",
   "metadata": {},
   "outputs": [],
   "source": [
    "cur = conn.cursor()"
   ]
  },
  {
   "cell_type": "code",
   "execution_count": 3,
   "id": "6330297c",
   "metadata": {},
   "outputs": [
    {
     "data": {
      "text/plain": [
       "[('CREATE TABLE laneCounts(location, direction, lane, timestamp, duration, vehicle_count)',)]"
      ]
     },
     "execution_count": 3,
     "metadata": {},
     "output_type": "execute_result"
    }
   ],
   "source": [
    "# Fetching list of tables\n",
    "res = cur.execute(\"SELECT sql FROM sqlite_master\")\n",
    "res.fetchall()"
   ]
  },
  {
   "cell_type": "code",
   "execution_count": 3,
   "id": "919d6ebd",
   "metadata": {},
   "outputs": [
    {
     "name": "stdout",
     "output_type": "stream",
     "text": [
      "[('dunbarton', 'SB', 1, 1752522900000, 300, 2), ('dunbarton', 'NB', 0, 1752522900000, 300, 16), ('dunbarton', 'NB', 1, 1752522900000, 300, 8), ('dunbarton', 'SB', 0, 1752522900000, 300, 2), ('dunbarton', 'NB', 0, 1752531000000, 300, 8), ('dunbarton', 'SB', 1, 1752531000000, 300, 8), ('dunbarton', 'SB', 0, 1752531000000, 300, 11), ('dunbarton', 'NB', 1, 1752531000000, 300, 4), ('dunbarton', 'SB', 1, 1752531300000, 300, 92), ('dunbarton', 'NB', 0, 1752531300000, 300, 125), ('dunbarton', 'SB', 0, 1752531300000, 300, 156), ('dunbarton', 'NB', 1, 1752531300000, 300, 90), ('dunbarton', 'NB', 1, 1752531600000, 300, 83), ('dunbarton', 'NB', 0, 1752531600000, 300, 118), ('dunbarton', 'SB', 0, 1752531600000, 300, 168), ('dunbarton', 'SB', 1, 1752531600000, 300, 115), ('dunbarton', 'SB', 1, 1752531900000, 300, 93), ('dunbarton', 'NB', 0, 1752531900000, 300, 129), ('dunbarton', 'SB', 0, 1752531900000, 300, 147), ('dunbarton', 'NB', 1, 1752531900000, 300, 66), ('dunbarton', 'NB', 0, 1752532200000, 300, 150), ('dunbarton', 'SB', 1, 1752532200000, 300, 106), ('dunbarton', 'SB', 0, 1752532200000, 300, 158), ('dunbarton', 'NB', 1, 1752532200000, 300, 96), ('dunbarton', 'SB', 1, 1752532500000, 300, 193), ('dunbarton', 'SB', 0, 1752532500000, 300, 326), ('dunbarton', 'NB', 0, 1752532500000, 300, 230), ('dunbarton', 'NB', 1, 1752532500000, 300, 155), ('dunbarton', 'NB', 0, 1752532800000, 300, 108), ('dunbarton', 'SB', 0, 1752532800000, 300, 180), ('dunbarton', 'NB', 1, 1752532800000, 300, 82), ('dunbarton', 'SB', 1, 1752532800000, 300, 114), ('dunbarton', 'NB', 0, 1752533100000, 300, 152), ('dunbarton', 'SB', 0, 1752533100000, 300, 168), ('dunbarton', 'SB', 1, 1752533100000, 300, 114), ('dunbarton', 'NB', 1, 1752533100000, 300, 78), ('dunbarton', 'NB', 0, 1752533400000, 300, 131), ('dunbarton', 'SB', 0, 1752533400000, 300, 156), ('dunbarton', 'NB', 1, 1752533400000, 300, 71), ('dunbarton', 'SB', 1, 1752533400000, 300, 127), ('dunbarton', 'NB', 0, 1752533700000, 300, 244), ('dunbarton', 'NB', 1, 1752533700000, 300, 137), ('dunbarton', 'SB', 0, 1752533700000, 300, 232), ('dunbarton', 'SB', 1, 1752533700000, 300, 203), ('dunbarton', 'SB', 1, 1752534000000, 300, 47), ('dunbarton', 'NB', 1, 1752534000000, 300, 39), ('dunbarton', 'SB', 0, 1752534000000, 300, 51), ('dunbarton', 'NB', 0, 1752534000000, 300, 46), ('dunbarton', 'SB', 1, 1752592800000, 300, 57), ('dunbarton', 'NB', 1, 1752592800000, 300, 40), ('dunbarton', 'NB', 2, 1752592800000, 300, 33), ('dunbarton', 'SB', 2, 1752592800000, 300, 31), ('dunbarton', 'SB', 1, 1752593100000, 300, 149), ('dunbarton', 'NB', 1, 1752593100000, 300, 157), ('dunbarton', 'NB', 2, 1752593100000, 300, 129), ('dunbarton', 'SB', 2, 1752593100000, 300, 122), ('dunbarton', 'NB', 1, 1752593400000, 300, 56), ('dunbarton', 'SB', 1, 1752593400000, 300, 41), ('dunbarton', 'SB', 2, 1752593400000, 300, 32), ('dunbarton', 'NB', 2, 1752593400000, 300, 41), ('dunbarton', 'SB', 2, 1752594300000, 300, 72), ('dunbarton', 'SB', 1, 1752594300000, 300, 125), ('dunbarton', 'NB', 1, 1752594300000, 300, 99), ('dunbarton', 'NB', 2, 1752594300000, 300, 89), ('dunbarton', 'SB', 2, 1752594600000, 300, 71), ('dunbarton', 'SB', 1, 1752594600000, 300, 90), ('dunbarton', 'NB', 1, 1752594600000, 300, 127), ('dunbarton', 'NB', 2, 1752594600000, 300, 84), ('dunbarton', 'NB', 2, 1752594900000, 300, 62), ('dunbarton', 'NB', 1, 1752594900000, 300, 70), ('dunbarton', 'SB', 1, 1752594900000, 300, 78), ('dunbarton', 'SB', 2, 1752594900000, 300, 56), ('dunbarton', 'NB', 1, 1752595200000, 300, 109), ('dunbarton', 'SB', 1, 1752595200000, 300, 93), ('dunbarton', 'NB', 2, 1752595200000, 300, 66), ('dunbarton', 'SB', 2, 1752595200000, 300, 48), ('dunbarton', 'NB', 1, 1752615600000, 300, 2), ('dunbarton', 'SB', 1, 1752615600000, 300, 3), ('dunbarton', 'NB', 2, 1752615600000, 300, 2), ('dunbarton', 'SB', 2, 1752615600000, 300, 1), ('dunbarton', 'SB', 2, 1752615900000, 300, 94), ('dunbarton', 'SB', 1, 1752615900000, 300, 172), ('dunbarton', 'NB', 2, 1752615900000, 300, 84), ('dunbarton', 'NB', 1, 1752615900000, 300, 136), ('dunbarton', 'SB', 2, 1752616200000, 300, 56), ('dunbarton', 'SB', 1, 1752616200000, 300, 95), ('dunbarton', 'NB', 2, 1752616200000, 300, 36), ('dunbarton', 'NB', 1, 1752616200000, 300, 62), ('dunbarton', 'NB', 1, 1752616500000, 300, 79), ('dunbarton', 'SB', 1, 1752616500000, 300, 125), ('dunbarton', 'SB', 2, 1752616500000, 300, 66), ('dunbarton', 'NB', 2, 1752616500000, 300, 58), ('dunbarton', 'SB', 2, 1752616800000, 300, 92), ('dunbarton', 'NB', 2, 1752616800000, 300, 90), ('dunbarton', 'NB', 1, 1752616800000, 300, 156), ('dunbarton', 'SB', 1, 1752616800000, 300, 149), ('dunbarton', 'SB', 1, 1752617100000, 300, 133), ('dunbarton', 'NB', 1, 1752617100000, 300, 123), ('dunbarton', 'SB', 2, 1752617100000, 300, 92), ('dunbarton', 'NB', 2, 1752617100000, 300, 86), ('dunbarton', 'NB', 1, 1752617400000, 300, 115), ('dunbarton', 'SB', 1, 1752617400000, 300, 166), ('dunbarton', 'SB', 2, 1752617400000, 300, 98), ('dunbarton', 'NB', 2, 1752617400000, 300, 69), ('dunbarton', 'NB', 1, 1752617700000, 300, 64), ('dunbarton', 'SB', 1, 1752617700000, 300, 79), ('dunbarton', 'SB', 2, 1752617700000, 300, 42), ('dunbarton', 'NB', 2, 1752617700000, 300, 36), ('dunbarton', 'NB', 1, 1752869700000, 300, 45), ('dunbarton', 'SB', 1, 1752869700000, 300, 34), ('dunbarton', 'SB', 2, 1752869700000, 300, 16), ('dunbarton', 'NB', 2, 1752869700000, 300, 31)]\n"
     ]
    }
   ],
   "source": [
    "res = cur.execute(\"SELECT * from laneCounts\")\n",
    "print(res.fetchall())\n",
    "\n",
    "conn.close()"
   ]
  },
  {
   "cell_type": "code",
   "execution_count": 29,
   "id": "0a0e7604",
   "metadata": {},
   "outputs": [],
   "source": [
    "cur.execute(\"CREATE TABLE laneCounts(location, direction, lane, timestamp, duration, vehicle_count)\")\n",
    "# cur.execute(\"\"\"\n",
    "#     INSERT INTO movie VALUES\n",
    "#         ('Monty Python and the Holy Grail', 1975, 8.2),\n",
    "#         ('And Now for Something Completely Different', 1971, 7.5)\n",
    "# \"\"\")\n",
    "conn.commit()"
   ]
  },
  {
   "cell_type": "code",
   "execution_count": 34,
   "id": "cd5dd4a8",
   "metadata": {},
   "outputs": [],
   "source": [
    "cur.execute(\"\"\"\n",
    "    INSERT INTO laneCounts VALUES\n",
    "        ('dunbarton', 'NB', 1, 1752255563, 300, 0)\n",
    "\"\"\")\n",
    "conn.commit()"
   ]
  },
  {
   "cell_type": "code",
   "execution_count": 50,
   "id": "ca4d8835",
   "metadata": {},
   "outputs": [
    {
     "data": {
      "text/plain": [
       "[('dunbarton', 'NB', 1, 1752255563, 300, 0)]"
      ]
     },
     "execution_count": 50,
     "metadata": {},
     "output_type": "execute_result"
    }
   ],
   "source": [
    "res = cur.execute(\"SELECT * FROM laneCounts WHERE timestamp > 5000 & lane = 1\")\n",
    "res.fetchall()"
   ]
  },
  {
   "cell_type": "code",
   "execution_count": null,
   "id": "af1e7732",
   "metadata": {},
   "outputs": [],
   "source": [
    "# cur.execute(\"\"\"\n",
    "#     DELETE FROM laneCounts\n",
    "# \"\"\")\n",
    "\n",
    "# conn.commit()"
   ]
  },
  {
   "cell_type": "code",
   "execution_count": 1,
   "id": "94232695",
   "metadata": {},
   "outputs": [],
   "source": [
    "import sqlite3\n",
    "\n",
    "conn = sqlite3.connect(\"lanecounts.db\")\n",
    "\n",
    "cur = conn.cursor()\n",
    "\n",
    "cur.execute(\"\"\"\n",
    "    DELETE FROM laneCounts WHERE vehicle_count > 500\n",
    "\"\"\")\n",
    "conn.commit()\n",
    "\n",
    "conn.close()\n"
   ]
  },
  {
   "cell_type": "code",
   "execution_count": 5,
   "id": "bfae6c3a",
   "metadata": {},
   "outputs": [],
   "source": [
    "conn.close()"
   ]
  }
 ],
 "metadata": {
  "kernelspec": {
   "display_name": "Python 3",
   "language": "python",
   "name": "python3"
  },
  "language_info": {
   "codemirror_mode": {
    "name": "ipython",
    "version": 3
   },
   "file_extension": ".py",
   "mimetype": "text/x-python",
   "name": "python",
   "nbconvert_exporter": "python",
   "pygments_lexer": "ipython3",
   "version": "3.13.5"
  }
 },
 "nbformat": 4,
 "nbformat_minor": 5
}
